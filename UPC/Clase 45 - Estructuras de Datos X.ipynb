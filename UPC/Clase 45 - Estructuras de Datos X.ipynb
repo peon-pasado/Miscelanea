{
 "cells": [
  {
   "cell_type": "markdown",
   "metadata": {},
   "source": [
    "# Clase 45\n",
    "\n",
    "Para una mejor visualización entrar al siguiente [link](https://nbviewer.jupyter.org/github/racsosabe/Miscelanea/blob/master/UPC/Clase%2045%20-%20Estructuras%20de%20Datos%20X.ipynb)\n",
    "\n",
    "# Requisitos Previos\n",
    "\n",
    "* Centroid Decomposition\n",
    "\n",
    "## Actualización al subárbol\n",
    "\n",
    "\n",
    "### Problemas para implementar\n",
    "\n",
    "- [Maximum Child Sum](https://www.spoj.com/problems/MAXCHILDSUM/)\n",
    "- [Propagating tree](https://codeforces.com/problemset/problem/383/C)\n",
    "\n",
    "## Actualización circular\n",
    "\n",
    "## "
   ]
  },
  {
   "cell_type": "code",
   "execution_count": null,
   "metadata": {},
   "outputs": [],
   "source": []
  }
 ],
 "metadata": {
  "kernelspec": {
   "display_name": "Python 3",
   "language": "python",
   "name": "python3"
  },
  "language_info": {
   "codemirror_mode": {
    "name": "ipython",
    "version": 3
   },
   "file_extension": ".py",
   "mimetype": "text/x-python",
   "name": "python",
   "nbconvert_exporter": "python",
   "pygments_lexer": "ipython3",
   "version": "3.6.9"
  }
 },
 "nbformat": 4,
 "nbformat_minor": 4
}
